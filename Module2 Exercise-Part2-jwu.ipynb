{
 "cells": [
  {
   "cell_type": "markdown",
   "metadata": {},
   "source": [
    "## Exercises\n",
    "### Write the pseudocode for these problems. \n",
    "\n",
    "#### Define the problem by constructing an IPO diagram showing input, output, and processing steps\n",
    "Ask yourself\n",
    "- What control structures (sequence, selection and repetition) are required?\n",
    "- What variables are required?\n",
    "\n",
    "Show a check of your solution with **test data** for at least **two valid test cases**\n",
    "If you use the numbers provided in the example then the correct pseudocode will calculate the same result.\n",
    "    "
   ]
  },
  {
   "cell_type": "markdown",
   "metadata": {},
   "source": [
    "#### 1. Daily Process\n",
    "Every day, a researcher receives 15 measurements. He needs a program written that will accept each measurement and convert it to its metric equivalent (from inches to millimeters). The result shall display on the monitor. After all 15 measurements are entered, the words \"All measurements processed\" shall be displayed on the screen."
   ]
  },
  {
   "cell_type": "markdown",
   "metadata": {},
   "source": [
    "    # Input: 15 measurements\n",
    "    # Output: 15 measurements in mm, print \"all measurements processed\"\n",
    "    # Process: Multiply each input by 25.4\n",
    "    \n",
    "    BEGIN\n",
    "    Loop if N <=15\n",
    "        Set N = 0\n",
    "        Request input from user\n",
    "        Multiply input from user x 25.4\n",
    "        Store input  as variable INPUT\n",
    "        Print INPUT\n",
    "        N=N+1\n",
    "        \n",
    "    ELSE\n",
    "        Print \"All measurements processed\"\n",
    "    \n",
    "\n",
    "    END"
   ]
  },
  {
   "cell_type": "markdown",
   "metadata": {},
   "source": [
    "#### 2. Elictricity Usage Report\n",
    "An electricity supply authority records on an electricity usage file the amount of electricity that each customer uses.\n",
    "\n",
    "This file consists of:\n",
    "\n",
    "    1. a header record (first record), which provides the total kilowatt hours used during the month by all customers\n",
    "    2. a number of detail records, each containing the customer number, customer name and electricity usage (in kilowatt hours) for the month.\n",
    "    \n",
    "Design a solution algorithm that will read the electricity usage file and produce an electricity usage report showing the customer number, customer name, electricity usage and the amount owing. The amount owing is calculated at 11 cents for each kilowatt hour used, up to 200 hours, and 8 cents for each kilowatt hour used over 200 hours.\n",
    "\n",
    "The report should also display the total electricity usage in kilowatt hours."
   ]
  },
  {
   "cell_type": "markdown",
   "metadata": {},
   "source": [
    "    #INPUT:     customer number, customer name, electricity usage in kilowatt hours\n",
    "    #OUTPUT:    customer number, customer name, amount owed, total electricity usage in kw hours\n",
    "    #PROCESS:   kilowatt hours x 11 cents up to <=200 hours, kilowatt hours x 8 cents > 200 hours\n",
    "    \n",
    "    BEGIN\n",
    "        Get total kw hours used by all customers\n",
    "        Store as TOTALUSEDBYALL\n",
    "        Get customer name\n",
    "        Store as NAME\n",
    "        Get customer number\n",
    "        Store as CUSTNUMB\n",
    "        Get usage\n",
    "        Store as USAGE\n",
    "        \n",
    "        IF USAGE <= 200 THEN\n",
    "            AMOUNT = USAGE x 11 cents\n",
    "        ELSE USAGE > 200 THEN\n",
    "            AMOUNTO = USAGE x 8 cents\n",
    "        \n",
    "        TOTAL = (AMOUNT + AMOUNTO)/100 to 2 decimal points\n",
    "        \n",
    "        Display NAME, CUSTNUMB, TOTAL, TOTALUSEDBYALL\n",
    "            \n",
    "\n",
    "    END"
   ]
  },
  {
   "cell_type": "markdown",
   "metadata": {},
   "source": [
    "#### 3. Calculate Fence Cost \n",
    "You've just been hired by Alton's Hardware Store. Your job is to develop a tool which will allow his customers to calculate the cost for installing a fence. Start by determining the algorithm to calculate the cost of installing the fence.\n",
    "\n",
    "Create a program that will calculate the cost with tax of fencing a rectangular yard. The cost of the fencing will depend on the amount of fencing required (the perimeter of the yard), and the type of fencing used. Gates can are available for an additional cost.At least one gate is required.\n",
    "\n",
    "Prices (including installation):\n",
    "\n",
    "    1. Wooden fencing costs 25 dollars per foot\n",
    "    2. Chain-link fencing costs 15 dollars per foot\n",
    "    3. Gates cost 150 dollars each. You must install at least one gate and can install up to 3    \n",
    "    4. A building permit is required. It costs 50 dollars\n",
    "    5. The tax rate is 6.0% but it doesn't apply to the building permit"
   ]
  },
  {
   "cell_type": "markdown",
   "metadata": {},
   "source": [
    "    #INPUT Perimeter of yard, type of fencing, # of gates, building permit, tax rate\n",
    "    #OUTPUT cost \n",
    "    #PROCESS Perimeter of yard * type of fence + # of gates up to 3 + building permit + tax rate 6% * cost\n",
    "    BEGIN\n",
    "        Request perimeter of yard in feet from user\n",
    "        Store PERIMETER\n",
    "        Request Fence Type (1 for Wooden, 2 for Chain Link)\n",
    "        Store Fence Type\n",
    "        Request # of gates up <=3\n",
    "        If more than 3 display \"must be less than 3 gates\"\n",
    "        Store GATES\n",
    "        Store PERMIT cost 50 dollars\n",
    "        Store TAX rate of 6%\n",
    "        If Fence Type is \"1\"\n",
    "            Then PERIMETER X $25\n",
    "            STORE as PERIMETERC\n",
    "        ELSE PERIMETER x $15\n",
    "        STORE as PERIMTERC\n",
    "        \n",
    "        PERIMTERC + (GATES * 150) = SUBTOTAL\n",
    "        SUBTOTAL * 1.06 = SUBPLUSTAX\n",
    "        Print SUBPLUSTAX + PERMIT \"is your total\"\n",
    "    \n",
    "\n",
    "    END"
   ]
  }
 ],
 "metadata": {
  "kernelspec": {
   "display_name": "Python 3 (ipykernel)",
   "language": "python",
   "name": "python3"
  },
  "language_info": {
   "codemirror_mode": {
    "name": "ipython",
    "version": 3
   },
   "file_extension": ".py",
   "mimetype": "text/x-python",
   "name": "python",
   "nbconvert_exporter": "python",
   "pygments_lexer": "ipython3",
   "version": "3.9.7"
  }
 },
 "nbformat": 4,
 "nbformat_minor": 2
}
